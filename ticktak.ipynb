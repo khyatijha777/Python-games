{
 "cells": [
  {
   "cell_type": "code",
   "execution_count": 1,
   "metadata": {},
   "outputs": [],
   "source": [
    "def win(p,total):\n",
    "    print(total)\n",
    "    if (total[0]==total[1] and total[0]==total[2] and total[0]==p) or (total[3]==total[4] and total[3]==total[5] and total[3]==p) or (total[6]==total[7] and total[6]==total[8] and total[6]==p) or (total[0]==total[4] and total[0]==total[7] and total[0]==p) or (total[4]==total[8] and total[4]==total[2] and total[4]==p):\n",
    "        return True\n",
    "    else:\n",
    "        return False\n"
   ]
  },
  {
   "cell_type": "code",
   "execution_count": 2,
   "metadata": {},
   "outputs": [],
   "source": [
    "def grid(total):\n",
    "    print(\"{}|{}|{}\".format(total[0],total[1],total[2]))\n",
    "    print(\"{}|{}|{}\".format(total[3],total[4],total[5]))\n",
    "    print(\"{}|{}|{}\".format(total[6],total[7],total[8]))\n",
    "#grid()                                           "
   ]
  },
  {
   "cell_type": "code",
   "execution_count": 3,
   "metadata": {},
   "outputs": [],
   "source": [
    "def main_game(): \n",
    "    player2 = \"l\"\n",
    "    player1= input(\"enter your symbol- X/0--> \")\n",
    "    if player1 == \"X\":\n",
    "        player2 = \"0\"\n",
    "    elif player1== \"0\":\n",
    "        player2 = \"X\"\n",
    "    else:\n",
    "        player1= input(\"enter your symbol- X/0--> \")  \n",
    "    print(\"player1 = \" + player1 + \" player2 = \" + player2)\n",
    "    #game here\n",
    "    \n",
    "    no_winner = True\n",
    "    total = [1,2,3,4,5,6,7,8,9]\n",
    "    grid(total)\n",
    "    while no_winner:\n",
    "        \n",
    "        total[int(input(\"player1 -> enter position \"))-1] = player1\n",
    "        grid(total)\n",
    "        if win(player1,total):\n",
    "            print(\"player1 won\")\n",
    "            status =False\n",
    "            break\n",
    "        total[int(input(\"player2 -> enter position \"))-1] = player2\n",
    "        grid(total)\n",
    "        if win(player2,total):\n",
    "            print(\"player1 won\")\n",
    "            status =False\n",
    "            break\n"
   ]
  },
  {
   "cell_type": "code",
   "execution_count": 4,
   "metadata": {},
   "outputs": [],
   "source": [
    "def ask_replay():\n",
    "    reply = input(\"do you want to play again - y/n\")\n",
    "    if reply == \"y\":\n",
    "        print(\"thanks for playing again\")\n",
    "        play()\n",
    "    else:\n",
    "        print(\" quitting the game\")"
   ]
  },
  {
   "cell_type": "code",
   "execution_count": 5,
   "metadata": {},
   "outputs": [],
   "source": [
    "def play():\n",
    "    \n",
    "    main_game()\n",
    "    ask_replay()\n",
    "    "
   ]
  },
  {
   "cell_type": "code",
   "execution_count": null,
   "metadata": {},
   "outputs": [
    {
     "name": "stdout",
     "output_type": "stream",
     "text": [
      "enter your symbol- X/0--> 0\n",
      "player1 = 0 player2 = X\n",
      "1|2|3\n",
      "4|5|6\n",
      "7|8|9\n",
      "player1 -> enter position 4\n",
      "1|2|3\n",
      "0|5|6\n",
      "7|8|9\n",
      "[1, 2, 3, '0', 5, 6, 7, 8, 9]\n",
      "player2 -> enter position 1\n",
      "X|2|3\n",
      "0|5|6\n",
      "7|8|9\n",
      "['X', 2, 3, '0', 5, 6, 7, 8, 9]\n",
      "player1 -> enter position 5\n",
      "X|2|3\n",
      "0|0|6\n",
      "7|8|9\n",
      "['X', 2, 3, '0', '0', 6, 7, 8, 9]\n",
      "player2 -> enter position 6\n",
      "X|2|3\n",
      "0|0|X\n",
      "7|8|9\n",
      "['X', 2, 3, '0', '0', 'X', 7, 8, 9]\n",
      "player1 -> enter position 8\n",
      "X|2|3\n",
      "0|0|X\n",
      "7|0|9\n",
      "['X', 2, 3, '0', '0', 'X', 7, '0', 9]\n",
      "player2 -> enter position 2\n",
      "X|X|3\n",
      "0|0|X\n",
      "7|0|9\n",
      "['X', 'X', 3, '0', '0', 'X', 7, '0', 9]\n",
      "player1 -> enter position 3\n",
      "X|X|0\n",
      "0|0|X\n",
      "7|0|9\n",
      "['X', 'X', '0', '0', '0', 'X', 7, '0', 9]\n",
      "player2 -> enter position 7\n",
      "X|X|0\n",
      "0|0|X\n",
      "X|0|9\n",
      "['X', 'X', '0', '0', '0', 'X', 'X', '0', 9]\n",
      "player1 -> enter position 9\n",
      "X|X|0\n",
      "0|0|X\n",
      "X|0|0\n",
      "['X', 'X', '0', '0', '0', 'X', 'X', '0', '0']\n",
      "player1 won\n"
     ]
    }
   ],
   "source": [
    "play()"
   ]
  },
  {
   "cell_type": "code",
   "execution_count": null,
   "metadata": {},
   "outputs": [],
   "source": []
  },
  {
   "cell_type": "code",
   "execution_count": null,
   "metadata": {},
   "outputs": [],
   "source": []
  },
  {
   "cell_type": "code",
   "execution_count": null,
   "metadata": {},
   "outputs": [],
   "source": []
  }
 ],
 "metadata": {
  "kernelspec": {
   "display_name": "Python 3",
   "language": "python",
   "name": "python3"
  },
  "language_info": {
   "codemirror_mode": {
    "name": "ipython",
    "version": 3
   },
   "file_extension": ".py",
   "mimetype": "text/x-python",
   "name": "python",
   "nbconvert_exporter": "python",
   "pygments_lexer": "ipython3",
   "version": "3.6.4"
  }
 },
 "nbformat": 4,
 "nbformat_minor": 2
}
